{
 "cells": [
  {
   "cell_type": "code",
   "execution_count": 48,
   "metadata": {},
   "outputs": [],
   "source": [
    "import numpy as np\n",
    "from math import log10 as lg10\n",
    "import time\n",
    "import matplotlib.pyplot as plt\n",
    "import random\n",
    "%matplotlib inline"
   ]
  },
  {
   "cell_type": "code",
   "execution_count": 49,
   "metadata": {},
   "outputs": [],
   "source": [
    "N = 1000000 # Number of records to process\n",
    "speed = [] # Empty list to store time taken for each operation"
   ]
  },
  {
   "cell_type": "code",
   "execution_count": 50,
   "metadata": {},
   "outputs": [
    {
     "name": "stdout",
     "output_type": "stream",
     "text": [
      "Length of mylist: 1000000\n"
     ]
    }
   ],
   "source": [
    "mylist = list(100*(np.random.random(N))+1)\n",
    "print(\"Length of mylist:\",len(mylist))"
   ]
  },
  {
   "cell_type": "code",
   "execution_count": 51,
   "metadata": {},
   "outputs": [
    {
     "name": "stdout",
     "output_type": "stream",
     "text": [
      "First few elements of the array: [97.56418264380875, 18.451466297815344, 20.240356460879394, 66.56398392044925]\n"
     ]
    }
   ],
   "source": [
    "print(\"First few elements of the array:\", mylist[:4])"
   ]
  },
  {
   "cell_type": "code",
   "execution_count": 52,
   "metadata": {},
   "outputs": [],
   "source": [
    "#creating a Numpy array from mylist\n",
    "mynumpy=np.array(mylist)"
   ]
  },
  {
   "cell_type": "code",
   "execution_count": 53,
   "metadata": {},
   "outputs": [
    {
     "name": "stdout",
     "output_type": "stream",
     "text": [
      "Shape of mylist:  (1000000,)\n",
      "Type of data in mylist:  <class 'numpy.ndarray'>\n"
     ]
    }
   ],
   "source": [
    "print(\"Shape of mylist: \", mynumpy.shape)\n",
    "print(\"Type of data in mylist: \", type(mynumpy))"
   ]
  },
  {
   "cell_type": "code",
   "execution_count": 54,
   "metadata": {},
   "outputs": [],
   "source": [
    "#creating my empty list\n",
    "list2=[]"
   ]
  },
  {
   "cell_type": "code",
   "execution_count": 55,
   "metadata": {},
   "outputs": [
    {
     "name": "stdout",
     "output_type": "stream",
     "text": [
      "speed for loop is:  [0.7890453338623047]\n",
      "[1.9892904105448097, 1.2660308843024832, 1.3062181567660682, 1.8232393070159831, 1.430637443900405, 1.7819831479049115]\n"
     ]
    }
   ],
   "source": [
    "#To check for how fast for loop is \n",
    "start=time.time()\n",
    "for num in mylist:\n",
    "    log=lg10(num)\n",
    "    list2.append(log)\n",
    "stop=time.time()\n",
    "timetaken=stop-start\n",
    "speed.append(timetaken)\n",
    "print(\"speed for loop is: \", speed)\n",
    "print(list2[:6])"
   ]
  },
  {
   "cell_type": "code",
   "execution_count": 56,
   "metadata": {},
   "outputs": [
    {
     "name": "stdout",
     "output_type": "stream",
     "text": [
      "speed for list comprehension is:  0.43602466583251953\n",
      "Speed is:  [0.7890453338623047, 0.43602466583251953]\n"
     ]
    }
   ],
   "source": [
    "#Checking for time taken in list comprehension \n",
    "start=time.time()\n",
    "listcomp=[lg10(num) for num in mylist]\n",
    "stop=time.time()\n",
    "timetaken=stop-start\n",
    "speed.append(timetaken)\n",
    "print(\"speed for list comprehension is: \", timetaken)\n",
    "print (\"Speed is: \", speed)"
   ]
  },
  {
   "cell_type": "code",
   "execution_count": 57,
   "metadata": {},
   "outputs": [
    {
     "name": "stdout",
     "output_type": "stream",
     "text": [
      "Time taken for Numpy is: 0.31001782417297363 seconds\n",
      "[0.7890453338623047, 0.43602466583251953, 0.31001782417297363]\n"
     ]
    }
   ],
   "source": [
    "#How fast is Numpy\n",
    "start=time.time()\n",
    "numplist=np.log10(mylist)\n",
    "stop=time.time()\n",
    "timetaken=stop-start\n",
    "speed.append(timetaken)\n",
    "print(\"Time taken for Numpy is: {} seconds\".format(timetaken))\n",
    "print(speed)"
   ]
  },
  {
   "cell_type": "code",
   "execution_count": 58,
   "metadata": {},
   "outputs": [
    {
     "name": "stderr",
     "output_type": "stream",
     "text": [
      "C:\\ProgramData\\Anaconda3\\lib\\site-packages\\matplotlib\\__init__.py:1855: MatplotlibDeprecationWarning: The *left* kwarg to `bar` is deprecated use *x* instead. Support for *left* will be removed in Matplotlib 3.0\n",
      "  return func(ax, *args, **kwargs)\n"
     ]
    },
    {
     "data": {
      "text/plain": [
       "<BarContainer object of 3 artists>"
      ]
     },
     "execution_count": 58,
     "metadata": {},
     "output_type": "execute_result"
    },
    {
     "data": {
      "image/png": "[encoded data removed]",
      "text/plain": [
       "<Figure size 720x432 with 1 Axes>"
      ]
     },
     "metadata": {},
     "output_type": "display_data"
    }
   ],
   "source": [
    "plt.figure(figsize=(10,6))\n",
    "plt.ylabel(\"Time taken to process 1 million records in seconds\", fontsize=12)\n",
    "plt.xlabel(\"Various types of operation\", fontsize=14)\n",
    "plt.grid(True)\n",
    "plt.bar(left=[1,2,3], height =speed, align=\"center\", tick_label=[\"For Loop\", \"List Comprehension\", \"Numpy\"])"
   ]
  },
  {
   "cell_type": "code",
   "execution_count": null,
   "metadata": {},
   "outputs": [],
   "source": []
  }
 ],
 "metadata": {
  "kernelspec": {
   "display_name": "Python 3",
   "language": "python",
   "name": "python3"
  },
  "language_info": {
   "codemirror_mode": {
    "name": "ipython",
    "version": 3
   },
   "file_extension": ".py",
   "mimetype": "text/x-python",
   "name": "python",
   "nbconvert_exporter": "python",
   "pygments_lexer": "ipython3",
   "version": "3.6.5"
  }
 },
 "nbformat": 4,
 "nbformat_minor": 2
}
